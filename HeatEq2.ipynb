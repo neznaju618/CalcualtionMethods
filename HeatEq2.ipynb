{
 "cells": [
  {
   "cell_type": "code",
   "execution_count": 2,
   "metadata": {},
   "outputs": [],
   "source": [
    "import numpy as np\n",
    "import matplotlib.pyplot as plt"
   ]
  },
  {
   "cell_type": "code",
   "execution_count": 3,
   "metadata": {},
   "outputs": [],
   "source": [
    "class Equation:\n",
    "    \n",
    "    def __init__(self, a, f, X, T, left_cond, is_left_cond_der, right_cond, is_right_cond_der, start_cond):\n",
    "        self.a = a\n",
    "        self.f = f\n",
    "        self.X = X\n",
    "        self.T = T\n",
    "        self.left_cond = left_cond\n",
    "        self.is_left_cond_der = is_left_cond_der\n",
    "        self.right_cond = right_cond\n",
    "        self.is_right_cond_der = is_right_cond_der\n",
    "        self.start_cond = start_cond\n",
    "        \n",
    "    def __split(self, N_x, N_t):\n",
    "        x_splitting = np.zeros(N_x)\n",
    "        t_splitting = np.zeros(N_t)\n",
    "        for i in range(N_x):\n",
    "            x_splitting[i] = i*self.X/(N_x-1)\n",
    "        for i in range(N_t):\n",
    "            t_splitting[i] = i*self.T/(N_t-1)\n",
    "        return x_splitting, t_splitting\n",
    "    \n",
    "    def __solve_system(self, A, b):\n",
    "        N = len(b)\n",
    "        alpha = np.zeros(N-1)\n",
    "        beta = np.zeros(N-1)\n",
    "        beta[0] = b[0]/A[0,0]\n",
    "        alpha[0] = -A[0,1]/A[0,0]\n",
    "        \n",
    "        for i in range (1, N-1):\n",
    "            alpha[i] = -A[i,i+1]/(A[i,i-1]*alpha[i-1] + A[i,i])\n",
    "            beta[i] = (b[i] - A[i,i-1]*beta[i-1]) /(A[i,i-1]*alpha[i-1] + A[i,i])\n",
    "            \n",
    "        y = np.zeros(N)\n",
    "        y[N-1] = (b[N-1] - A[N-1,N-2]*beta[N-2]) / (A[N-1,N-2]*alpha[N-2] + A[N-1,N-1])\n",
    "        \n",
    "        for i in range (N-2, -1, -1):\n",
    "            y[i] = alpha[i] * y[i+1] + beta[i]\n",
    "            \n",
    "        return y\n",
    "    \n",
    "    def __two_layer_method(self, x, t, y_0,n):\n",
    "        N = len(x)\n",
    "        h = self.X/(N-1)\n",
    "        tau = self.T/(len(t)-1)\n",
    "        A = np.zeros((N,N))\n",
    "        b = np.zeros(N)\n",
    "        \n",
    "        if self.is_left_cond_der:\n",
    "            A[0,0] = 1/h\n",
    "            A[0,1] = -1/h\n",
    "        else:\n",
    "            A[0,0] = 1\n",
    "        b[0] = self.left_cond(t[n])\n",
    "        \n",
    "        for i in range(1,N-1):\n",
    "            A[i,i-1] = -self.a/(2*h*h)\n",
    "            A[i,i] = 1/tau + self.a/(h*h)\n",
    "            A[i,i+1] = -self.a/(2*h*h)\n",
    "            b[i] = self.a/(2*h*h)*y_0[i-1] + (1/tau - self.a/(h*h))*y_0[i] + \\\n",
    "            self.a/(2*h*h)*y_0[i+1] + 1/2*(self.f(x[i],t[n]) + self.f(x[i],t[n-1]))\n",
    "        \n",
    "        if self.is_right_cond_der:\n",
    "            A[N-1,N-2] = 1/h\n",
    "            A[N-1,N-1] = -1/h\n",
    "        else:\n",
    "            A[N-1,N-1] = 1\n",
    "        b[N-1] = self.right_cond(t[n])\n",
    "       \n",
    "        return self.__solve_system(A,b)\n",
    "    \n",
    "    def __three_layer_method(self, x, t, y_0, y_1, n):\n",
    "        N = len(x)\n",
    "        h = self.X/(N-1)\n",
    "        tau = self.T/(len(t)-1)\n",
    "        A = np.zeros((N,N))\n",
    "        b = np.zeros(N)\n",
    "        \n",
    "        if self.is_left_cond_der:\n",
    "            A[0,0] = 1/h\n",
    "            A[0,1] = -1/h\n",
    "        else:\n",
    "            A[0,0] = 1\n",
    "        b[0] = self.left_cond(t[n])\n",
    "        \n",
    "        for i in range(1,N-1):\n",
    "            A[i,i-1] = -self.a/(h*h)\n",
    "            A[i,i] = 3/(2*tau) + 2*self.a/(h*h)\n",
    "            A[i,i+1] = -self.a/(h*h)\n",
    "            b[i] = 2/tau* y_1[i] - y_0[i]/(2*tau) + self.f(x[i],t[n])\n",
    "        \n",
    "        if self.is_right_cond_der:\n",
    "            A[N-1,N-2] = 1/h\n",
    "            A[N-1,N-1] = -1/h\n",
    "        else:\n",
    "            A[N-1,N-1] = 1\n",
    "        b[N-1] = self.right_cond(t[n])\n",
    "        \n",
    "        return self.__solve_system(A,b)\n",
    "    \n",
    "    \n",
    "    def solve(self, Nx, Nt):\n",
    "        x, t = self.__split(Nx, Nt)\n",
    "        y_0 = self.start_cond(x)\n",
    "        y_1 = self.__two_layer_method(x,t,y_0, 1)\n",
    "        y_2 = self.__three_layer_method(x, t, y_0, y_1, 2)\n",
    "        for n in range (3, Nt):\n",
    "            y_0 = y_1.copy()\n",
    "            y_1 = y_2.copy()\n",
    "            y_2 = self.__three_layer_method(x, t, y_0, y_1, n)\n",
    "        return y_2\n",
    "    \n",
    "    def solve_2(self, Nx, Nt):\n",
    "        x, t = self.__split(Nx, Nt)\n",
    "        y_0 = self.start_cond(x)\n",
    "        for n in range (1, Nt):\n",
    "            y_1 = self.__two_layer_method(x, t, y_0, n)\n",
    "            y_0 = y_1.copy()\n",
    "        return y_1\n",
    "        "
   ]
  },
  {
   "cell_type": "code",
   "execution_count": 4,
   "metadata": {},
   "outputs": [],
   "source": [
    "def norm(f_1, f_2):\n",
    "    return np.max(np.abs(f_1 - f_2))\n",
    "\n",
    "def split_x(X, N):\n",
    "    res = np.zeros(N)\n",
    "    for i in range(N):\n",
    "        res[i] = X*i/(N-1)\n",
    "    return res"
   ]
  },
  {
   "cell_type": "code",
   "execution_count": 8,
   "metadata": {},
   "outputs": [
    {
     "name": "stdout",
     "output_type": "stream",
     "text": [
      "error norm= 0.03138889423589086\n"
     ]
    },
    {
     "data": {
      "image/png": "[encoded data removed]",
      "text/plain": [
       "<Figure size 432x288 with 1 Axes>"
      ]
     },
     "metadata": {
      "needs_background": "light"
     },
     "output_type": "display_data"
    }
   ],
   "source": [
    "N = 100\n",
    "x = split_x(1, N)\n",
    "u_accuracy = lambda x: x*x + 1 + x * np.cos(2)\n",
    "u_ac_h = u_accuracy(x)\n",
    "\n",
    "eq = Equation(a=1, f=lambda x,t: 2*t-2*x*np.sin(2*t)-2, X=1,T=1,left_cond=lambda t: t*t, is_left_cond_der=False, \\\n",
    "              right_cond=lambda t: 1+t*t+np.cos(2*t), is_right_cond_der=False, start_cond=lambda x: x*x+x)\n",
    "u_h = eq.solve(N,3)\n",
    "plt.plot(x, u_h, label='Приближенное решение')\n",
    "plt.plot(x, u_ac_h, label = 'Точное решение')\n",
    "plt.legend()\n",
    "print('error norm=', norm(u_h, u_ac_h))"
   ]
  },
  {
   "cell_type": "code",
   "execution_count": 9,
   "metadata": {},
   "outputs": [
    {
     "name": "stdout",
     "output_type": "stream",
     "text": [
      "error norm= 4.440892098500626e-16\n"
     ]
    },
    {
     "data": {
      "image/png": "[encoded data removed]",
      "text/plain": [
       "<Figure size 432x288 with 1 Axes>"
      ]
     },
     "metadata": {
      "needs_background": "light"
     },
     "output_type": "display_data"
    }
   ],
   "source": [
    "eq1 = Equation(a=1, f=lambda x,t: -1 + x*0, X=1,T=1,left_cond=lambda t: t, is_left_cond_der=False, \\\n",
    "              right_cond=lambda t: 1+t, is_right_cond_der=False, start_cond=lambda x: x*x)\n",
    "\n",
    "x = split_x(1, 20)\n",
    "u_accuracy = lambda x: x*x+1\n",
    "u_ac_h = u_accuracy(x)\n",
    "\n",
    "u_h = eq1.solve(20,40)\n",
    "plt.plot(x, u_h, label='Приближенное решение')\n",
    "plt.plot(x, u_ac_h, label = 'Точное решение')\n",
    "plt.legend()\n",
    "print('error norm=', norm(u_h, u_ac_h))"
   ]
  }
 ],
 "metadata": {
  "kernelspec": {
   "display_name": "Python 3",
   "language": "python",
   "name": "python3"
  },
  "language_info": {
   "codemirror_mode": {
    "name": "ipython",
    "version": 3
   },
   "file_extension": ".py",
   "mimetype": "text/x-python",
   "name": "python",
   "nbconvert_exporter": "python",
   "pygments_lexer": "ipython3",
   "version": "3.8.5"
  }
 },
 "nbformat": 4,
 "nbformat_minor": 5
}
