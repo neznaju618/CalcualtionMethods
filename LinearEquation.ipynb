{
 "cells": [
  {
   "cell_type": "code",
   "execution_count": 46,
   "metadata": {},
   "outputs": [],
   "source": [
    "import numpy as np\n",
    "import matplotlib.pyplot as plt"
   ]
  },
  {
   "cell_type": "markdown",
   "metadata": {},
   "source": [
    "Решается уравнение\n",
    "\\begin{cases}\n",
    "a_n y^{(n)} + \\dots + a_1 y' + a_0 y = f(t) \\\\\n",
    "y(t_0) = y_0 \\\\\n",
    "\\dots \\\\\n",
    "y^{(n-1)}(t_0) = y_0^{(n-1)}\n",
    "\\end{cases}\n",
    "Сделаем замену\n",
    "\\begin{eqnarray}\n",
    "y_1(t) = y(t) \\\\\n",
    "y_2(t) = y'(t) \\\\\n",
    "\\dots \\\\\n",
    "y_n(t) = y^{(n-1)}(t)\n",
    "\\end{eqnarray}\n",
    "Получим систему \n",
    "\\begin{cases}\n",
    "y'_1 = y_2 \\\\\n",
    "\\dots \\\\\n",
    "y'_{n-1} = y_n \\\\\n",
    "y'_n = \\frac{f(t) - a_{n-1}y_n - \\dots - a_0y_1}{a_n}\n",
    "\\end{cases}\n",
    "Решаем её методом Эйлера\n",
    "\n",
    "Уравнение задается следующими параметрами:\n",
    "\n",
    "coefs - массив коэффициентов ($coefs[i] = a_i$)\n",
    "\n",
    "f - правая часть в виде lambda-функции\n",
    "\n",
    "start - массив начальных условий ($start[i] = y^{(i)}(t_0)$)\n",
    "\n",
    "a, b - начало и конец отрезка, на котором ищется решение\n",
    "\n",
    "N - параметр разбиения"
   ]
  },
  {
   "cell_type": "code",
   "execution_count": 47,
   "metadata": {},
   "outputs": [],
   "source": [
    "def solve(coefs, f, start, a, b, N):\n",
    "    h = (b-a) / (N-1)\n",
    "    dim = len(coefs) - 1\n",
    "    result = np.zeros(N)\n",
    "    current_system_solvation = start.copy()\n",
    "    result[0] = current_system_solvation[0]\n",
    "    F = np.zeros(dim)\n",
    "    F[0:dim-1] = current_system_solvation[1:dim]\n",
    "    for i in range(1, N):\n",
    "        F[dim-1] = (f(a + h*i) - np.dot(coefs[0:dim], current_system_solvation)) / coefs[dim]\n",
    "        current_system_solvation = current_system_solvation + h*F\n",
    "        # Т.к. интересует само решение, то выбирается 0-ая компонента, которая соответствует y(t_i).\n",
    "        # Если бы требовалось найти k-ую производную решения, то писали бы current_system_solvation[k].\n",
    "        result[i] = current_system_solvation[0]\n",
    "        F[0:dim-1] = current_system_solvation[1:dim]\n",
    "    return result\n",
    "\n",
    "def error_norm(y1, y2):\n",
    "    return np.max(np.abs(y1-y2))"
   ]
  },
  {
   "cell_type": "markdown",
   "metadata": {},
   "source": [
    "Рассмотрим тестовую задачу, для которой известно точное решение:\n",
    "\\begin{cases}\n",
    "y'' + y = t^2 + 2 \\\\\n",
    "y(0) = 0 \\\\\n",
    "y'(0) = 1\n",
    "\\end{cases}\n",
    "\n",
    "Точное решение $y = sin(t) + t^2$"
   ]
  },
  {
   "cell_type": "code",
   "execution_count": 48,
   "metadata": {},
   "outputs": [
    {
     "name": "stdout",
     "output_type": "stream",
     "text": [
      "Error= 0.041741330020651723\n"
     ]
    },
    {
     "data": {
      "text/plain": [
       "<matplotlib.legend.Legend at 0x22fe33be130>"
      ]
     },
     "execution_count": 48,
     "metadata": {},
     "output_type": "execute_result"
    },
    {
     "data": {
      "image/png": "[encoded data removed]",
      "text/plain": [
       "<Figure size 432x288 with 1 Axes>"
      ]
     },
     "metadata": {
      "needs_background": "light"
     },
     "output_type": "display_data"
    }
   ],
   "source": [
    "N = 10\n",
    "y_accur = lambda t:t**2 + np.sin(t)\n",
    "t = np.linspace(0, 1, N)\n",
    "y_approx = solve(coefs=np.array([1,0,1]), f=lambda t: t**2 + 2, start=np.array([0,1]), a=0, b=1, N=N)\n",
    "print(\"Error=\", error_norm(y_approx, y_accur(t)))\n",
    "plt.plot(t, y_approx, label='approximate')\n",
    "plt.plot(t, y_accur(t), label='accuracy')\n",
    "plt.legend()"
   ]
  },
  {
   "cell_type": "code",
   "execution_count": 49,
   "metadata": {},
   "outputs": [
    {
     "name": "stdout",
     "output_type": "stream",
     "text": [
      "Error= 0.05533629291498876\n",
      "Error= 0.023720930161666542\n",
      "Error= 0.010957387482150693\n",
      "Error= 0.00527482268032009\n",
      "Error= 0.002588148753889574\n",
      "Error= 0.0012820193765282761\n"
     ]
    }
   ],
   "source": [
    "Ns = [8, 16, 32, 64, 128, 256]\n",
    "for N in Ns:\n",
    "    t = np.linspace(0, 1, N)\n",
    "    y_approx = solve(coefs=np.array([1,0,1]), f=lambda t: t**2 + 2, start=np.array([0,1]), a=0, b=1, N=N)\n",
    "    print(\"Error=\", error_norm(y_approx, y_accur(t)))"
   ]
  },
  {
   "cell_type": "markdown",
   "metadata": {},
   "source": [
    "По-видимому, метод реализован правильно :)\n",
    "\n",
    "Видно так же, что при уменьшении шага h в 2 раза, ошибка уменьшается в 2 раза, то есть точность аппроксимации $O(h)$. Это соответствует теретической точности данного метода.\n",
    "\n",
    "Теперь перейдем к решению задачи из ТЗ."
   ]
  },
  {
   "cell_type": "code",
   "execution_count": 58,
   "metadata": {},
   "outputs": [
    {
     "data": {
      "text/plain": [
       "<matplotlib.legend.Legend at 0x22fe2c620d0>"
      ]
     },
     "execution_count": 58,
     "metadata": {},
     "output_type": "execute_result"
    },
    {
     "data": {
      "image/png": "[encoded data removed]",
      "text/plain": [
       "<Figure size 432x288 with 1 Axes>"
      ]
     },
     "metadata": {
      "needs_background": "light"
     },
     "output_type": "display_data"
    }
   ],
   "source": [
    "N = 100\n",
    "t = np.linspace(0, 5, N)\n",
    "y_approx = solve(coefs=np.array([243, 405, 270, 90, 15, 1]), f=lambda t: 0*t, start=np.array([0,3,9,8,0]), a=0, b=1, N=N)\n",
    "plt.plot(t, y_approx, label='approximate')\n",
    "plt.legend()"
   ]
  },
  {
   "cell_type": "code",
   "execution_count": null,
   "metadata": {},
   "outputs": [],
   "source": []
  }
 ],
 "metadata": {
  "kernelspec": {
   "display_name": "Python 3",
   "language": "python",
   "name": "python3"
  },
  "language_info": {
   "codemirror_mode": {
    "name": "ipython",
    "version": 3
   },
   "file_extension": ".py",
   "mimetype": "text/x-python",
   "name": "python",
   "nbconvert_exporter": "python",
   "pygments_lexer": "ipython3",
   "version": "3.8.5"
  }
 },
 "nbformat": 4,
 "nbformat_minor": 4
}
