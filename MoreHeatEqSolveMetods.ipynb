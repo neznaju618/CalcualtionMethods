{
 "cells": [
  {
   "cell_type": "code",
   "execution_count": 1,
   "metadata": {},
   "outputs": [
    {
     "name": "stdout",
     "output_type": "stream",
     "text": [
      "Норма ошибки: 7.238402099907226e-05\n"
     ]
    },
    {
     "data": {
      "image/png": "[encoded data removed]",
      "text/plain": [
       "<Figure size 432x288 with 1 Axes>"
      ]
     },
     "metadata": {
      "needs_background": "light"
     },
     "output_type": "display_data"
    }
   ],
   "source": [
    "import numpy as np\n",
    "import matplotlib.pyplot as plt\n",
    "\n",
    "\n",
    "# X=1, T=1, a=1, tau = h^2 / 6\n",
    "\n",
    "def solve_equation(N, f, u0, u_l, u_r):\n",
    "    grid = np.linspace(0, 1, N)\n",
    "    h = 1 / (N - 1)\n",
    "    tau = h ** 2 / 6\n",
    "    n = 1\n",
    "    y0 = []\n",
    "    for x in grid:\n",
    "        y0.append(u0(x))\n",
    "    while n * tau <= 1:\n",
    "        y1 = [u_l(n * tau)]\n",
    "        for j in range(1, N - 1):\n",
    "            y1.append(tau / h ** 2 * (y0[j - 1] + y0[j + 1]) - (2 * tau / h ** 2 - 1) * y0[j] + tau * f(grid[j], tau * n) + tau ** 2 / (2 * h ** 2) * (f(grid[j - 1], tau * n) - 2 * f(grid[j], tau * n) + f(grid[j + 1], tau * n)) + tau/2* (f(grid[j], tau*(n+1)) - f(grid[j], tau * n)))\n",
    "        y1.append(u_r(n * tau))\n",
    "        y0 = y1.copy()\n",
    "        n += 1\n",
    "    return y0\n",
    "\n",
    "\n",
    "def get_error(f1, f2):\n",
    "    errors = []\n",
    "    for i in range(len(f1)):\n",
    "        errors.append(np.abs(f1[i]-f2[i]))\n",
    "    return np.max(errors)\n",
    "\n",
    "\n",
    "Nx = 25\n",
    "x_points = np.linspace(0, 1, Nx)\n",
    "u = lambda x: np.cos(2*x) + x**2 + 1\n",
    "u_points = []\n",
    "for x in x_points:\n",
    "    u_points.append(u(x))\n",
    "y_points = solve_equation(N=Nx, f=lambda x, t: 2*(t-1)+4*np.cos(2*x), u0=lambda x: np.cos(2*x) + x**2, u_l=lambda t: 1 + t**2, u_r=lambda t: np.cos(2) + 1 + t**2)\n",
    "\n",
    "print(\"Норма ошибки:\", get_error(y_points, u_points))\n",
    "plt.plot(x_points, y_points, label='Приближенное решение')\n",
    "plt.plot(x_points, u_points, label='Точное решение')\n",
    "plt.legend()\n",
    "plt.show()\n"
   ]
  },
  {
   "cell_type": "code",
   "execution_count": 2,
   "metadata": {},
   "outputs": [
    {
     "name": "stdout",
     "output_type": "stream",
     "text": [
      "Норма ошибки: 0.00024233576854348904\n"
     ]
    },
    {
     "data": {
      "image/png": "[encoded data removed]",
      "text/plain": [
       "<Figure size 432x288 with 1 Axes>"
      ]
     },
     "metadata": {
      "needs_background": "light"
     },
     "output_type": "display_data"
    }
   ],
   "source": [
    "import numpy as np\n",
    "import matplotlib.pyplot as plt\n",
    "\n",
    "\n",
    "# X=1, T=1, a=1\n",
    "def solve_system(A, b):\n",
    "    N = len(b)\n",
    "    alpha = np.zeros(N - 1)\n",
    "    beta = np.zeros(N - 1)\n",
    "    beta[0] = b[0]\n",
    "    alpha[0] = 0\n",
    "    for i in range(1, N - 1):\n",
    "        alpha[i] = -A[2] / (A[0] * alpha[i - 1] + A[1])\n",
    "        beta[i] = (b[i] - A[0] * beta[i - 1]) / (A[0] * alpha[i - 1] + A[1])\n",
    "    y = np.zeros(N)\n",
    "    y[N - 1] = b[N - 1]\n",
    "    for i in range(N - 2, -1, -1):\n",
    "        y[i] = alpha[i] * y[i + 1] + beta[i]\n",
    "    return y\n",
    "\n",
    "\n",
    "def solve_equation(N, M, f, u0, u_l, u_r, sigma=-1/2):\n",
    "    x = np.linspace(0, 1, N)\n",
    "    t = np.linspace(0, 1, M)\n",
    "    h = 1 / (N - 1)\n",
    "    tau = 1 / (M - 1)\n",
    "    y0 = []\n",
    "    for x_p in x:\n",
    "        y0.append(u0(x_p))\n",
    "    A = [-1/(2*h**2), 1/h**2 + 1/tau, -1/(2*h**2)]\n",
    "    b = [u_l(t[1])]\n",
    "    for j in range(1, len(x)-1):\n",
    "        b.append(1/(2*h**2)*(y0[j-1] - 2*y0[j] + y0[j+1]) + y0[j]/tau + (f(x[j], t[1]) + f(x[j], t[0]))/2)\n",
    "    b.append(u_r(t[1]))\n",
    "    y1 = solve_system(A, b)\n",
    "    for n in range(2, M):\n",
    "        A = [-1/h**2, 2/h**2 + 1/tau - sigma/tau, -1/h**2]\n",
    "        b = [u_l(t[n])]\n",
    "        for j in range(1, N - 1):\n",
    "            b.append(y1[j]*(1/tau-2*sigma/tau) + y0[j]*sigma/tau + f(x[j], t[n]))\n",
    "        b.append(u_r(t[n]))\n",
    "        y2 = solve_system(A, b)\n",
    "        y0 = y1.copy()\n",
    "        y1 = y2.copy()\n",
    "    return y1\n",
    "\n",
    "\n",
    "def get_error(f1, f2):\n",
    "    errors = []\n",
    "    for i in range(len(f1)):\n",
    "        errors.append(np.abs(f1[i]-f2[i]))\n",
    "    return np.max(errors)\n",
    "\n",
    "\n",
    "Nx = 20\n",
    "Mt = 10\n",
    "x_points = np.linspace(0, 1, Nx)\n",
    "u = lambda x: np.cos(2*x) + x**2 + 1\n",
    "u_points = []\n",
    "for x in x_points:\n",
    "    u_points.append(u(x))\n",
    "\n",
    "y_points = solve_equation(N=Nx, M=Mt, f=lambda x, t: 2*(t-1)+4*np.cos(2*x), u0=lambda x: np.cos(2*x) + x**2,\n",
    "                          u_l=lambda t: 1 + t**2, u_r=lambda t: np.cos(2) + 1 + t**2, sigma=-1/2)\n",
    "\n",
    "\n",
    "print(\"Норма ошибки:\", get_error(y_points, u_points))\n",
    "plt.plot(x_points, y_points, label='Точное решение')\n",
    "plt.plot(x_points, u_points, label='Приближенное решение')\n",
    "plt.legend()\n",
    "plt.show()"
   ]
  },
  {
   "cell_type": "code",
   "execution_count": 3,
   "metadata": {},
   "outputs": [
    {
     "name": "stdout",
     "output_type": "stream",
     "text": [
      "Норма ошибки: 0.00011642862006544519\n"
     ]
    },
    {
     "data": {
      "image/png": "[encoded data removed]",
      "text/plain": [
       "<Figure size 432x288 with 1 Axes>"
      ]
     },
     "metadata": {
      "needs_background": "light"
     },
     "output_type": "display_data"
    }
   ],
   "source": [
    "import numpy as np\n",
    "import matplotlib.pyplot as plt\n",
    "\n",
    "\n",
    "# X=1, T=1, a=1\n",
    "def get_error(f1, f2):\n",
    "    errors = []\n",
    "    for i in range(len(f1)):\n",
    "        errors.append(np.abs(f1[i] - f2[i]))\n",
    "    return np.max(errors)\n",
    "\n",
    "\n",
    "def solve_system(A, b):\n",
    "    N = len(b)\n",
    "    alpha = np.zeros(N - 1)\n",
    "    beta = np.zeros(N - 1)\n",
    "    beta[0] = b[0]\n",
    "    alpha[0] = 0\n",
    "    for i in range(1, N - 1):\n",
    "        alpha[i] = -A[2] / (A[0] * alpha[i - 1] + A[1])\n",
    "        beta[i] = (b[i] - A[0] * beta[i - 1]) / (A[0] * alpha[i - 1] + A[1])\n",
    "    y = np.zeros(N)\n",
    "    y[N - 1] = b[N - 1]\n",
    "    for i in range(N - 2, -1, -1):\n",
    "        y[i] = alpha[i] * y[i + 1] + beta[i]\n",
    "    return y\n",
    "\n",
    "\n",
    "def solve_equation(N, M, f, u0, u_l, u_r):\n",
    "    x = np.linspace(0, 1, N)\n",
    "    t = np.linspace(0, 1, M)\n",
    "    h = 1 / (N - 1)\n",
    "    tau = 1 / (M - 1)\n",
    "    y0 = []\n",
    "    for x_p in x:\n",
    "        y0.append(u0(x_p))\n",
    "    A = [-1/(2*h**2), 1/h**2 + 1/tau, -1/(2*h**2)]\n",
    "    b = [u_l(t[1])]\n",
    "    for j in range(1, len(x)-1):\n",
    "        b.append(1/(2*h**2)*(y0[j-1] - 2*y0[j] + y0[j+1]) + y0[j]/tau + (f(x[j], t[1]) + f(x[j], t[0]))/2)\n",
    "    b.append(u_r(t[1]))\n",
    "    y1 = solve_system(A, b)\n",
    "    for n in range(2, M):\n",
    "        y2 = [u_l(t[n])]\n",
    "        for j in range(1, N - 1):\n",
    "            y2.append(1/(1/(2*tau) + 1/h**2) * ((y1[j-1] + y1[j+1])/h**2 + y0[j]*(1/(2*tau) - 1/h**2) + f(x[j], t[n-1])))\n",
    "        y2.append(u_r(t[n]))\n",
    "        y0 = y1.copy()\n",
    "        y1 = y2.copy()\n",
    "    return y1\n",
    "\n",
    "\n",
    "Nx = 50\n",
    "Mt = 2000\n",
    "x_points = np.linspace(0, 1, Nx)\n",
    "u = lambda x: np.cos(2*x) + x**2 + 1\n",
    "u_points = []\n",
    "for x in x_points:\n",
    "    u_points.append(u(x))\n",
    "y_points = solve_equation(N=Nx, M=Mt, f=lambda x, t: 2*(t-1)+4*np.cos(2*x), u0=lambda x: np.cos(2*x) + x**2, u_l=lambda t: 1 + t**2, u_r=lambda t: np.cos(2) + 1 + t**2)\n",
    "print(\"Норма ошибки:\", get_error(y_points, u_points))\n",
    "plt.plot(x_points, y_points, label='Приближенное решение')\n",
    "plt.plot(x_points, u_points, label='Точное решение')\n",
    "plt.legend()\n",
    "plt.show()"
   ]
  },
  {
   "cell_type": "code",
   "execution_count": null,
   "metadata": {},
   "outputs": [],
   "source": []
  }
 ],
 "metadata": {
  "kernelspec": {
   "display_name": "Python 3",
   "language": "python",
   "name": "python3"
  },
  "language_info": {
   "codemirror_mode": {
    "name": "ipython",
    "version": 3
   },
   "file_extension": ".py",
   "mimetype": "text/x-python",
   "name": "python",
   "nbconvert_exporter": "python",
   "pygments_lexer": "ipython3",
   "version": "3.8.5"
  }
 },
 "nbformat": 4,
 "nbformat_minor": 4
}
