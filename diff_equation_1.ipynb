{
 "cells": [
  {
   "cell_type": "code",
   "execution_count": 112,
   "metadata": {},
   "outputs": [],
   "source": [
    "import numpy as np\n",
    "import matplotlib.pyplot as plt\n",
    "%matplotlib inline"
   ]
  },
  {
   "cell_type": "code",
   "execution_count": 113,
   "metadata": {},
   "outputs": [],
   "source": [
    "def split(n):\n",
    "    points = []\n",
    "    for i in range(n):\n",
    "        points.append(i/(n-1))\n",
    "    return points"
   ]
  },
  {
   "cell_type": "code",
   "execution_count": 114,
   "metadata": {},
   "outputs": [],
   "source": [
    "def build_matrix(x):\n",
    "    n = len(x)\n",
    "    h=1/(n-1)\n",
    "    A = np.zeros((n,n))\n",
    "    b = np.zeros(n)\n",
    "    A[0,0] = -1/h\n",
    "    A[0,1] = 1/h\n",
    "    A[n-1, n-1] = 1\n",
    "    b[0] = 1\n",
    "    b[n-1] = np.log(2)\n",
    "    for i in range(1,n-1):\n",
    "        A[i,i+1] = -1/h**2\n",
    "        A[i,i] = 2/h**2\n",
    "        A[i,i-1] = -1/h**2\n",
    "        b[i] = -1/(1+i*h)**2\n",
    "    return A, b"
   ]
  },
  {
   "cell_type": "code",
   "execution_count": 115,
   "metadata": {},
   "outputs": [],
   "source": [
    "def sweep(A,b):\n",
    "    n = len(b)\n",
    "    alpha = np.zeros(n-1)\n",
    "    beta = np.zeros(n-1)\n",
    "    alpha[0]= 1\n",
    "    beta[0] = -1/(n-1)\n",
    "    for i in range(1,n-1):\n",
    "        alpha[i] = -A[i,i+1]/(A[i,i-1]*alpha[i-1]+A[i,i])\n",
    "        beta[i] = (b[i] - A[i,i-1]*beta[i-1])/(A[i,i-1]*alpha[i-1] + A[i,i])\n",
    "    y = np.zeros(n)\n",
    "    y[n-1] = b[n-1]\n",
    "    for i in range(n-2, -1,-1):\n",
    "        y[i] = y[i+1] * alpha[i] + beta[i]\n",
    "    return y"
   ]
  },
  {
   "cell_type": "code",
   "execution_count": 116,
   "metadata": {},
   "outputs": [],
   "source": [
    "def error_norm(y, u):\n",
    "    errors = []\n",
    "    for i in range(len(y)):\n",
    "        errors.append(np.abs(y[i] - u[i]))\n",
    "    return np.max(errors)"
   ]
  },
  {
   "cell_type": "code",
   "execution_count": 117,
   "metadata": {},
   "outputs": [
    {
     "data": {
      "text/plain": [
       "[<matplotlib.lines.Line2D at 0x26e4e4dc130>]"
      ]
     },
     "execution_count": 117,
     "metadata": {},
     "output_type": "execute_result"
    },
    {
     "data": {
      "image/png": "[encoded data removed]",
      "text/plain": [
       "<Figure size 432x288 with 1 Axes>"
      ]
     },
     "metadata": {
      "needs_background": "light"
     },
     "output_type": "display_data"
    }
   ],
   "source": [
    "x = split(61)\n",
    "A, b = build_matrix(x)\n",
    "y = sweep(A,b)\n",
    "plt.plot(x,y)"
   ]
  },
  {
   "cell_type": "code",
   "execution_count": 118,
   "metadata": {},
   "outputs": [
    {
     "name": "stdout",
     "output_type": "stream",
     "text": [
      "Норма ошибки = 0.008269680305463045\n"
     ]
    },
    {
     "data": {
      "text/plain": [
       "<matplotlib.legend.Legend at 0x26e4e51fee0>"
      ]
     },
     "execution_count": 118,
     "metadata": {},
     "output_type": "execute_result"
    },
    {
     "data": {
      "image/png": "[encoded data removed]",
      "text/plain": [
       "<Figure size 432x288 with 1 Axes>"
      ]
     },
     "metadata": {
      "needs_background": "light"
     },
     "output_type": "display_data"
    }
   ],
   "source": [
    "u = lambda x: -np.log(1+x) + 2*x + (2*np.log(2)-2)\n",
    "uh = []\n",
    "for xi in x:\n",
    "    uh.append(u(xi))\n",
    "    \n",
    "print(\"Норма ошибки =\", error_norm(uh,y))\n",
    "plt.plot(x,y, color=\"blue\", label=\"Приближенное решение\")\n",
    "plt.plot(x,uh, color=\"orange\", label=\"Точное решение\")\n",
    "plt.legend()"
   ]
  },
  {
   "cell_type": "code",
   "execution_count": null,
   "metadata": {},
   "outputs": [],
   "source": []
  },
  {
   "cell_type": "code",
   "execution_count": null,
   "metadata": {},
   "outputs": [],
   "source": []
  },
  {
   "cell_type": "code",
   "execution_count": null,
   "metadata": {},
   "outputs": [],
   "source": []
  },
  {
   "cell_type": "code",
   "execution_count": null,
   "metadata": {},
   "outputs": [],
   "source": []
  },
  {
   "cell_type": "code",
   "execution_count": null,
   "metadata": {},
   "outputs": [],
   "source": []
  }
 ],
 "metadata": {
  "kernelspec": {
   "display_name": "Python 3",
   "language": "python",
   "name": "python3"
  },
  "language_info": {
   "codemirror_mode": {
    "name": "ipython",
    "version": 3
   },
   "file_extension": ".py",
   "mimetype": "text/x-python",
   "name": "python",
   "nbconvert_exporter": "python",
   "pygments_lexer": "ipython3",
   "version": "3.8.5"
  }
 },
 "nbformat": 4,
 "nbformat_minor": 4
}
