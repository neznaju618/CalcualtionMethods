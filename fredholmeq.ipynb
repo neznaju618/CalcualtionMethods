{
 "cells": [
  {
   "cell_type": "code",
   "execution_count": 37,
   "metadata": {},
   "outputs": [],
   "source": [
    "import numpy as np\n",
    "import matplotlib.pyplot as plt\n",
    "%matplotlib inline\n",
    "from numpy import random"
   ]
  },
  {
   "cell_type": "code",
   "execution_count": 38,
   "metadata": {},
   "outputs": [],
   "source": [
    "def get_uniform_splitting(a,b,n):\n",
    "    x_points = []\n",
    "    for i in range(n):\n",
    "        x_points.append(a+(b-a)/(n-1) * i)\n",
    "    return x_points\n",
    "        \n",
    "def get_f_points(f, x_points):\n",
    "    f_points = []\n",
    "    for x in x_points:\n",
    "        f_points.append(f(x))\n",
    "    return f_points\n",
    "\n",
    "def get_K_points(K, x_points, s_points):\n",
    "    K_points = []\n",
    "    for x in x_points:\n",
    "        x_line = []\n",
    "        for s in s_points:\n",
    "            x_line.append(K(x,s))\n",
    "        K_points.append(x_line)\n",
    "    return K_points"
   ]
  },
  {
   "cell_type": "code",
   "execution_count": 39,
   "metadata": {},
   "outputs": [],
   "source": [
    "def quadrature_tr(lam,K,f,a,b,n,x_points):\n",
    "    M = []\n",
    "    s_points = get_uniform_splitting(a,b,n)\n",
    "    K_points = get_K_points(K, x_points, s_points)\n",
    "    h = (b-a)/n\n",
    "    for i in range(len(x_points)):\n",
    "        M_line = []\n",
    "        for j in range(len(s_points)):\n",
    "            if j == 0 or j == (n-1):\n",
    "                Aj = 1/2\n",
    "            else:\n",
    "                Aj = 1\n",
    "            Mij = h*lam*Aj*K_points[i][j]\n",
    "            if i == j:\n",
    "                Mij = Mij+1\n",
    "            M_line.append(Mij)\n",
    "        M.append(M_line)\n",
    "    return M\n",
    "\n",
    "def quadrature_sim(lam,K,f,a,b,n,x_points):\n",
    "    M = []\n",
    "    s_points = get_uniform_splitting(a,b,n)\n",
    "    K_points = get_K_points(K, x_points, s_points)\n",
    "    h = (b-a)/n\n",
    "    for i in range(len(x_points)):\n",
    "        M_line = []\n",
    "        for j in range(len(s_points)):\n",
    "            if j == 0 or j == (n-1):\n",
    "                Aj = 1/2\n",
    "            elif j%2==0:\n",
    "                Aj = 2\n",
    "            else: Aj=4\n",
    "            Mij = h/3*lam*Aj*K_points[i][j]\n",
    "            if i == j:\n",
    "                Mij = Mij+1\n",
    "            M_line.append(Mij)\n",
    "        M.append(M_line)\n",
    "    return M"
   ]
  },
  {
   "cell_type": "code",
   "execution_count": 40,
   "metadata": {},
   "outputs": [],
   "source": [
    "def get_error_norm(f_points, f_int_points):\n",
    "    errors = []\n",
    "    for i in range(len(f_points)):\n",
    "        errors.append(np.abs(f_points[i] - f_int_points[i]))\n",
    "    return np.max(errors)"
   ]
  },
  {
   "cell_type": "code",
   "execution_count": 41,
   "metadata": {},
   "outputs": [],
   "source": [
    "def plot(x,f):\n",
    "    plt.scatter(x,f)\n",
    "    \n",
    "def plot_with_ac_solve(x, f_ac, f):\n",
    "    plt.plot(x, f_ac, label='f_ac')\n",
    "    plt.plot(x, f, label='f')\n",
    "\n",
    "def solve_equation_tr(lam, K, f, a, b, n):\n",
    "    x_points = get_uniform_splitting(a,b,n)\n",
    "    M = quadrature_tr(lam,K,f,a,b,n,x_points)\n",
    "    f_points = get_f_points(f, x_points)\n",
    "    y_points = np.linalg.solve(M, f_points)\n",
    "    return y_points\n",
    "\n",
    "def solve_equation_sim(lam, K, f, a, b, n):\n",
    "    x_points = get_uniform_splitting(a,b,n)\n",
    "    M = quadrature_sim(lam,K,f,a,b,n,x_points)\n",
    "    f_points = get_f_points(f, x_points)\n",
    "    y_points = np.linalg.solve(M, f_points)\n",
    "    return y_points"
   ]
  },
  {
   "cell_type": "code",
   "execution_count": 42,
   "metadata": {},
   "outputs": [],
   "source": [
    "splitting = 150"
   ]
  },
  {
   "cell_type": "code",
   "execution_count": 43,
   "metadata": {},
   "outputs": [],
   "source": [
    "def tabulate_tr(lam, K, f, a, b, f_ac):\n",
    "    errors = []\n",
    "    ns = []\n",
    "    for n in range(20, 601, 20):\n",
    "        y = solve_equation_tr(lam, K, f, a, b,n)\n",
    "        f_ac_points = get_f_points(f_ac, get_uniform_splitting(a,b,n))\n",
    "        error = get_error_norm(y,f_ac_points)\n",
    "        print(\"n= \", n, \" error= \", error)\n",
    "        ns.append(n)\n",
    "        errors.append(error)\n",
    "    plt.plot(ns,errors)\n",
    "        \n",
    "def tabulate_sim(lam, K, f, a, b, f_ac):\n",
    "    errors = []\n",
    "    ns = []\n",
    "    for n in range(20, 601, 20):\n",
    "        y = solve_equation_sim(lam, K, f, a, b,n)\n",
    "        f_ac_points = get_f_points(f_ac, get_uniform_splitting(a,b,n))\n",
    "        error = get_error_norm(y,f_ac_points)\n",
    "        print(\"n= \", n, \" error= \", error)\n",
    "        ns.append(n)\n",
    "        errors.append(error)\n",
    "    plt.plot(ns,errors)"
   ]
  },
  {
   "cell_type": "code",
   "execution_count": 44,
   "metadata": {},
   "outputs": [
    {
     "name": "stdout",
     "output_type": "stream",
     "text": [
      "n=  20  error=  0.15616618773866486\n",
      "n=  40  error=  0.07660606883474363\n",
      "n=  60  error=  0.05072186481305163\n",
      "n=  80  error=  0.037908168923140195\n",
      "n=  100  error=  0.03026201326877276\n",
      "n=  120  error=  0.025182308945953746\n",
      "n=  140  error=  0.02156269622283391\n",
      "n=  160  error=  0.01885279346819413\n",
      "n=  180  error=  0.016747949651117366\n",
      "n=  200  error=  0.015065880049045521\n",
      "n=  220  error=  0.013690837411578283\n",
      "n=  240  error=  0.012545792236883901\n",
      "n=  260  error=  0.011577493516958803\n",
      "n=  280  error=  0.010747950960203756\n",
      "n=  300  error=  0.010029333789117079\n",
      "n=  320  error=  0.00940078749542872\n",
      "n=  340  error=  0.008846376872482242\n",
      "n=  360  error=  0.008353716311105153\n",
      "n=  380  error=  0.007913033597226615\n",
      "n=  400  error=  0.0075165151663538765\n",
      "n=  420  error=  0.007157838807140493\n",
      "n=  440  error=  0.00683183405646437\n",
      "n=  460  error=  0.006534231351563058\n",
      "n=  480  error=  0.006261474006016954\n",
      "n=  500  error=  0.00601057538874894\n",
      "n=  520  error=  0.005779009116202438\n",
      "n=  540  error=  0.005564623685010428\n",
      "n=  560  error=  0.005365575425815727\n",
      "n=  580  error=  0.005180275349289776\n",
      "n=  600  error=  0.0050073466382154486\n"
     ]
    },
    {
     "data": {
      "image/png": "[encoded data removed]",
      "text/plain": [
       "<Figure size 432x288 with 1 Axes>"
      ]
     },
     "metadata": {
      "needs_background": "light"
     },
     "output_type": "display_data"
    }
   ],
   "source": [
    "tabulate_tr(3, lambda x, y: np.sin(x-2*y), lambda x: 2, 0, np.pi/2, lambda x: 2-3*np.sin(x))"
   ]
  },
  {
   "cell_type": "code",
   "execution_count": 45,
   "metadata": {},
   "outputs": [
    {
     "name": "stdout",
     "output_type": "stream",
     "text": [
      "n=  20  error=  0.4159049501078491\n",
      "n=  40  error=  0.18928742892359862\n",
      "n=  60  error=  0.12243822007050298\n",
      "n=  80  error=  0.09047130505014644\n",
      "n=  100  error=  0.07173786210287858\n",
      "n=  120  error=  0.05943064811624277\n",
      "n=  140  error=  0.05072745473391205\n",
      "n=  160  error=  0.04424749930689442\n",
      "n=  180  error=  0.03923542630385102\n",
      "n=  200  error=  0.03524323403625651\n",
      "n=  220  error=  0.03198838736818255\n",
      "n=  240  error=  0.029283885341671922\n",
      "n=  260  error=  0.027001030724594255\n",
      "n=  280  error=  0.02504835102330638\n",
      "n=  300  error=  0.02335904764099972\n",
      "n=  320  error=  0.021883202171256055\n",
      "n=  340  error=  0.020582761247504244\n",
      "n=  360  error=  0.019428209095721627\n",
      "n=  380  error=  0.018396300384214914\n",
      "n=  400  error=  0.01746847907755056\n",
      "n=  420  error=  0.016629752754163007\n",
      "n=  440  error=  0.015867876334156428\n",
      "n=  460  error=  0.01517275034433263\n",
      "n=  480  error=  0.014535970698128953\n",
      "n=  500  error=  0.01395048727419601\n",
      "n=  520  error=  0.01341034180738232\n",
      "n=  540  error=  0.012910464398586008\n",
      "n=  560  error=  0.012446513898444422\n",
      "n=  580  error=  0.012014751511711719\n",
      "n=  600  error=  0.011611939826257967\n"
     ]
    },
    {
     "data": {
      "image/png": "[encoded data removed]",
      "text/plain": [
       "<Figure size 432x288 with 1 Axes>"
      ]
     },
     "metadata": {
      "needs_background": "light"
     },
     "output_type": "display_data"
    }
   ],
   "source": [
    "tabulate_sim(3, lambda x, y: np.sin(x-2*y), lambda x: 2, 0, np.pi/2, lambda x: 2-3*np.sin(x))"
   ]
  },
  {
   "cell_type": "code",
   "execution_count": 46,
   "metadata": {},
   "outputs": [
    {
     "name": "stdout",
     "output_type": "stream",
     "text": [
      "n=  20  error=  0.2588839836627672\n",
      "n=  40  error=  0.1325991135833693\n",
      "n=  60  error=  0.08912399437570517\n",
      "n=  80  error=  0.06711806983849655\n",
      "n=  100  error=  0.0538273629397823\n",
      "n=  120  error=  0.04493027815634676\n",
      "n=  140  error=  0.03855718905615202\n",
      "n=  160  error=  0.033767476129924034\n",
      "n=  180  error=  0.030036263297888333\n",
      "n=  200  error=  0.027047580382673075\n",
      "n=  220  error=  0.024599835551668114\n",
      "n=  240  error=  0.022558355422892085\n",
      "n=  260  error=  0.02082974581194197\n",
      "n=  280  error=  0.019347201626037425\n",
      "n=  300  error=  0.018061673278793933\n",
      "n=  320  error=  0.016936335379808654\n",
      "n=  340  error=  0.015943001926443934\n",
      "n=  360  error=  0.015059733121656649\n",
      "n=  380  error=  0.014269195949919045\n",
      "n=  400  error=  0.01355751535390759\n",
      "n=  420  error=  0.012913452866782471\n",
      "n=  440  error=  0.012327808745847157\n",
      "n=  460  error=  0.011792979733010966\n",
      "n=  480  error=  0.011302627145362898\n",
      "n=  500  error=  0.010851424464905612\n",
      "n=  520  error=  0.010434863065101219\n",
      "n=  540  error=  0.010049101029420804\n",
      "n=  560  error=  0.009690844308233082\n",
      "n=  580  error=  0.009357252421541062\n",
      "n=  600  error=  0.009045862989878195\n"
     ]
    },
    {
     "data": {
      "image/png": "[encoded data removed]",
      "text/plain": [
       "<Figure size 432x288 with 1 Axes>"
      ]
     },
     "metadata": {
      "needs_background": "light"
     },
     "output_type": "display_data"
    }
   ],
   "source": [
    "tabulate_tr(-1/2, lambda x, y: np.exp(x-y), lambda x: np.exp(x), 0, 1, lambda x: 2*np.exp(x))"
   ]
  },
  {
   "cell_type": "code",
   "execution_count": 47,
   "metadata": {},
   "outputs": [
    {
     "name": "stdout",
     "output_type": "stream",
     "text": [
      "n=  20  error=  0.4181972043783153\n",
      "n=  40  error=  0.21746254627672457\n",
      "n=  60  error=  0.1469341528896786\n",
      "n=  80  error=  0.11095027871261287\n",
      "n=  100  error=  0.08912399437570606\n",
      "n=  120  error=  0.07447347475230348\n",
      "n=  140  error=  0.0639595724343307\n",
      "n=  160  error=  0.05604704800946614\n",
      "n=  180  error=  0.04987673079741306\n",
      "n=  200  error=  0.04493027815634498\n",
      "n=  220  error=  0.04087641847307033\n",
      "n=  240  error=  0.03749354246150283\n",
      "n=  260  error=  0.03462779399311078\n",
      "n=  280  error=  0.032169015721412286\n",
      "n=  300  error=  0.03003626329788922\n",
      "n=  320  error=  0.028168723610974666\n",
      "n=  340  error=  0.026519822716674746\n",
      "n=  360  error=  0.025053288741553992\n",
      "n=  380  error=  0.02374045265028979\n",
      "n=  400  error=  0.02255835542289386\n",
      "n=  420  error=  0.02148839390086099\n",
      "n=  440  error=  0.020515334554412235\n",
      "n=  460  error=  0.01962658359897862\n",
      "n=  480  error=  0.018811638951267362\n",
      "n=  500  error=  0.018061673278793933\n",
      "n=  520  error=  0.017369212961400038\n",
      "n=  540  error=  0.01672788817513471\n",
      "n=  560  error=  0.016132236370676623\n",
      "n=  580  error=  0.015577546294894162\n",
      "n=  600  error=  0.015059733121663754\n"
     ]
    },
    {
     "data": {
      "image/png": "[encoded data removed]",
      "text/plain": [
       "<Figure size 432x288 with 1 Axes>"
      ]
     },
     "metadata": {
      "needs_background": "light"
     },
     "output_type": "display_data"
    }
   ],
   "source": [
    "tabulate_sim(-1/2, lambda x, y: np.exp(x-y), lambda x: np.exp(x), 0, 1, lambda x: 2*np.exp(x))"
   ]
  },
  {
   "cell_type": "code",
   "execution_count": null,
   "metadata": {},
   "outputs": [],
   "source": []
  },
  {
   "cell_type": "code",
   "execution_count": null,
   "metadata": {},
   "outputs": [],
   "source": []
  },
  {
   "cell_type": "code",
   "execution_count": null,
   "metadata": {},
   "outputs": [],
   "source": []
  },
  {
   "cell_type": "code",
   "execution_count": null,
   "metadata": {},
   "outputs": [],
   "source": []
  },
  {
   "cell_type": "code",
   "execution_count": null,
   "metadata": {},
   "outputs": [],
   "source": []
  },
  {
   "cell_type": "code",
   "execution_count": null,
   "metadata": {},
   "outputs": [],
   "source": []
  }
 ],
 "metadata": {
  "kernelspec": {
   "display_name": "Python 3",
   "language": "python",
   "name": "python3"
  }
 },
 "nbformat": 4,
 "nbformat_minor": 4
}
