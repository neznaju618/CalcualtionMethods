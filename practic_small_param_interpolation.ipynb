{
 "cells": [
  {
   "cell_type": "code",
   "execution_count": 2,
   "metadata": {},
   "outputs": [],
   "source": [
    "import numpy as np\n",
    "import matplotlib.pyplot as plt"
   ]
  },
  {
   "cell_type": "code",
   "execution_count": 3,
   "metadata": {},
   "outputs": [],
   "source": [
    "def lagr_interpolate(x, grid, u):\n",
    "    res = 0\n",
    "    for m in range(0, len(grid)-2, 2):\n",
    "        if x <= grid[m+2] and x >= grid[m]:\n",
    "            for j in range(3):\n",
    "                prod = 1\n",
    "                for i in range(3):\n",
    "                    if i != j:\n",
    "                        prod *= (x - grid[m+i]) / (grid[m+j] - grid[m+i])\n",
    "                res += prod*u[m+j]\n",
    "            return res\n",
    "        \n",
    "def fit_interpolate(x, grid, u, eps, fi=lambda x: np.exp(-x/eps)):\n",
    "    res = 0\n",
    "    for m in range(0, len(grid)-2, 2):\n",
    "        if x <= grid[m+2] and x >= grid[m]:\n",
    "            return u[m] * (x - grid[m+1])/(grid[m] - grid[m+1]) + u[m+1] * (x - grid[m])/(grid[m+1] - grid[m]) + (u[m+2] - 2*u[m+1] + u[m])/(fi(grid[m+2]) - 2*fi(grid[m+1]) + fi(grid[m])) * (fi(x) - fi(grid[m]) * (x - grid[m+1])/(grid[m] - grid[m+1]) + fi(grid[m+1]) * (x - grid[m])/(grid[m+1] - grid[m]))"
   ]
  },
  {
   "cell_type": "code",
   "execution_count": 4,
   "metadata": {},
   "outputs": [],
   "source": [
    "def get_u(grid, u):\n",
    "    res = []\n",
    "    for i in range(len(grid)):\n",
    "        res.append(u(grid[i]))\n",
    "    return np.array(res)\n",
    "\n",
    "def get_lagr(x_points, grid, u):\n",
    "    res = []\n",
    "    u_h = get_u(grid, u)\n",
    "    for i in range(len(x_points)):\n",
    "        res.append(lagr_interpolate(x_points[i], grid, u_h))\n",
    "    return np.array(res)\n",
    "\n",
    "def get_fit(x_points, grid, u, eps, fi=lambda x: np.exp(-x/eps)):\n",
    "    res = []\n",
    "    u_h = get_u(grid, u)\n",
    "    for i in range(len(x_points)):\n",
    "        res.append(fit_interpolate(x_points[i], grid, u_h, eps, fi))\n",
    "    return np.array(res)\n",
    "        \n",
    "def uniform_grid(a,b,n):\n",
    "    dots=[]\n",
    "    for i in range(n+1):\n",
    "        dots.append(a+(b-a)*i/n)\n",
    "    return np.array(dots)\n",
    "\n",
    "def min_(a,b):\n",
    "    if a > b:\n",
    "        return b\n",
    "    else:\n",
    "        return a\n",
    "\n",
    "def shishkin_grid(a, b, N, eps):\n",
    "    sigma = min_(2*eps*np.log(N),0.5)\n",
    "    res = np.zeros(N+1)\n",
    "    res[0] = a\n",
    "    h = 2*sigma/N\n",
    "    for i in range(1,int(N/2) + 1):\n",
    "        res[i] = res[i-1] + h\n",
    "    H = 2*(b-a-sigma)/N\n",
    "    for i in range(int(N/2) + 1, N+1):\n",
    "        res[i] = res[i-1] + H\n",
    "    return res\n",
    "\n",
    "def bahvalov_grid(N, eps, k=2):\n",
    "    sigma = min_(0.5, - k * eps * np.log(eps))\n",
    "    if eps > 1 / np.exp(1):\n",
    "        sigma = 1/2\n",
    "    if sigma >= 1/2:\n",
    "        return uniform_grid(0, 1, N)\n",
    "    res = []\n",
    "    for i in range(int(N/2) + 1):\n",
    "        res.append(- k * eps * np.log(1 - 2*(1 - eps) * i / N))\n",
    "    for i in range(int(N/2) + 1, N+1):\n",
    "        res.append(sigma + (2*i/N-1)*(1-sigma) )\n",
    "    return res\n",
    "    \n",
    "\n",
    "def subgrid(grid):\n",
    "    res = np.array([])\n",
    "    for m in range(0, len(grid) - 2, 2):\n",
    "        res = np.concatenate([res, np.delete(uniform_grid(grid[m], grid[m+2], 10), 10)])\n",
    "    return np.concatenate([res, np.array([grid[len(grid) - 1]])])\n",
    "\n",
    "def error_norm(f_1, f_2):\n",
    "    return np.max(np.abs(f_1 - f_2))"
   ]
  },
  {
   "cell_type": "code",
   "execution_count": 9,
   "metadata": {},
   "outputs": [
    {
     "data": {
      "text/plain": [
       "<matplotlib.collections.PathCollection at 0x267d1b56160>"
      ]
     },
     "execution_count": 9,
     "metadata": {},
     "output_type": "execute_result"
    },
    {
     "data": {
      "image/png": "[encoded data removed]",
      "text/plain": [
       "<Figure size 1080x720 with 1 Axes>"
      ]
     },
     "metadata": {
      "needs_background": "light"
     },
     "output_type": "display_data"
    }
   ],
   "source": [
    "x = bahvalov_grid(15, 0.005)\n",
    "y = np.zeros(len(x))\n",
    "plt.figure(figsize=(15, 10))\n",
    "plt.scatter(x, y)"
   ]
  },
  {
   "cell_type": "code",
   "execution_count": null,
   "metadata": {},
   "outputs": [],
   "source": []
  },
  {
   "cell_type": "code",
   "execution_count": null,
   "metadata": {},
   "outputs": [],
   "source": []
  },
  {
   "cell_type": "code",
   "execution_count": 5,
   "metadata": {},
   "outputs": [],
   "source": [
    "N = [8, 16, 32, 64, 128, 256, 512, 1024]\n",
    "eps = [1/8, 1/16, 1/32, 1/64, 1/128, 1/256, 1/512, 1/1024]"
   ]
  },
  {
   "cell_type": "code",
   "execution_count": 6,
   "metadata": {},
   "outputs": [
    {
     "name": "stdout",
     "output_type": "stream",
     "text": [
      "2.88e-02 5.30e-03 8.11e-04 1.12e-04 1.48e-05 1.90e-06 2.41e-07 3.03e-08 \n",
      "1.15e-01 2.89e-02 5.30e-03 8.11e-04 1.12e-04 1.48e-05 1.90e-06 2.41e-07 \n",
      "2.90e-01 1.15e-01 2.89e-02 5.30e-03 8.11e-04 1.12e-04 1.48e-05 1.90e-06 \n",
      "5.18e-01 2.90e-01 1.15e-01 2.89e-02 5.30e-03 8.11e-04 1.12e-04 1.48e-05 \n",
      "6.79e-01 5.18e-01 2.90e-01 1.15e-01 2.89e-02 5.30e-03 8.11e-04 1.12e-04 \n",
      "7.18e-01 6.79e-01 5.18e-01 2.90e-01 1.15e-01 2.89e-02 5.30e-03 8.11e-04 \n",
      "7.20e-01 7.18e-01 6.79e-01 5.18e-01 2.90e-01 1.15e-01 2.89e-02 5.30e-03 \n",
      "7.20e-01 7.20e-01 7.18e-01 6.79e-01 5.18e-01 2.90e-01 1.15e-01 2.89e-02 \n",
      "ORDERS:\n",
      "2.44e+00 2.71e+00 2.85e+00 2.92e+00 2.96e+00 2.98e+00 2.99e+00 \n",
      "1.99e+00 2.45e+00 2.71e+00 2.85e+00 2.92e+00 2.96e+00 2.98e+00 \n",
      "1.33e+00 1.99e+00 2.45e+00 2.71e+00 2.85e+00 2.92e+00 2.96e+00 \n",
      "8.38e-01 1.33e+00 1.99e+00 2.45e+00 2.71e+00 2.85e+00 2.92e+00 \n",
      "3.90e-01 8.39e-01 1.33e+00 1.99e+00 2.45e+00 2.71e+00 2.85e+00 \n",
      "8.06e-02 3.90e-01 8.39e-01 1.33e+00 1.99e+00 2.45e+00 2.71e+00 \n",
      "3.22e-03 8.07e-02 3.90e-01 8.39e-01 1.33e+00 1.99e+00 2.45e+00 \n",
      "-1.01e-04 3.32e-03 8.07e-02 3.90e-01 8.39e-01 1.33e+00 1.99e+00 \n"
     ]
    }
   ],
   "source": [
    "# Многочлен Лагражна на равномерной сетке\n",
    "\n",
    "res_table = np.zeros((len(eps), len(N)))\n",
    "\n",
    "for i in range(len(eps)):\n",
    "    for j in range(len(N)):\n",
    "        grid = uniform_grid(0, 1, N[j])\n",
    "        x = subgrid(grid)\n",
    "        u = lambda x: np.cos(np.pi * x / 2) + np.exp(-x/eps[i])\n",
    "        u_h = get_u(x, u)\n",
    "        u_lagr = get_lagr(x, grid, u)\n",
    "        error = error_norm(u_h, u_lagr)\n",
    "        res_table[i,j] = error\n",
    "        print(\"{:.2e}\".format(error), end=' ')\n",
    "    print()\n",
    "\n",
    "orders = np.zeros((len(eps), len(N)-1))\n",
    "for j in range(len(N)-1):\n",
    "    orders[:,j] = np.log2(res_table[:,j] / res_table[:,j+1] )\n",
    "\n",
    "print(\"ORDERS:\")\n",
    "for i in range(len(eps)):\n",
    "    for j in range(len(N)-1):\n",
    "        print(\"{:.2e}\".format(orders[i,j]),end=' ')\n",
    "    print()"
   ]
  },
  {
   "cell_type": "code",
   "execution_count": 7,
   "metadata": {},
   "outputs": [
    {
     "name": "stdout",
     "output_type": "stream",
     "text": [
      "2.88e-02 5.30e-03 8.11e-04 1.12e-04 1.48e-05 1.90e-06 2.41e-07 3.03e-08 \n",
      "3.15e-02 1.21e-02 3.64e-03 8.11e-04 1.12e-04 1.48e-05 1.90e-06 2.41e-07 \n",
      "3.15e-02 1.21e-02 3.64e-03 9.05e-04 1.96e-04 3.87e-05 7.11e-06 1.24e-06 \n",
      "3.15e-02 1.21e-02 3.64e-03 9.05e-04 1.96e-04 3.87e-05 7.11e-06 1.24e-06 \n",
      "3.15e-02 1.21e-02 3.64e-03 9.05e-04 1.96e-04 3.87e-05 7.11e-06 1.24e-06 \n",
      "3.15e-02 1.21e-02 3.64e-03 9.05e-04 1.96e-04 3.87e-05 7.11e-06 1.24e-06 \n",
      "3.15e-02 1.21e-02 3.64e-03 9.05e-04 1.96e-04 3.87e-05 7.11e-06 1.24e-06 \n",
      "3.15e-02 1.21e-02 3.64e-03 9.05e-04 1.96e-04 3.87e-05 7.11e-06 1.24e-06 \n",
      "ORDERS:\n",
      "2.44e+00 2.71e+00 2.85e+00 2.92e+00 2.96e+00 2.98e+00 2.99e+00 \n",
      "1.38e+00 1.74e+00 2.16e+00 2.85e+00 2.92e+00 2.96e+00 2.98e+00 \n",
      "1.38e+00 1.74e+00 2.01e+00 2.20e+00 2.34e+00 2.44e+00 2.52e+00 \n",
      "1.38e+00 1.74e+00 2.01e+00 2.20e+00 2.34e+00 2.44e+00 2.52e+00 \n",
      "1.38e+00 1.74e+00 2.01e+00 2.20e+00 2.34e+00 2.44e+00 2.52e+00 \n",
      "1.38e+00 1.74e+00 2.01e+00 2.20e+00 2.34e+00 2.44e+00 2.52e+00 \n",
      "1.38e+00 1.74e+00 2.01e+00 2.20e+00 2.34e+00 2.44e+00 2.52e+00 \n",
      "1.38e+00 1.74e+00 2.01e+00 2.20e+00 2.34e+00 2.44e+00 2.52e+00 \n"
     ]
    }
   ],
   "source": [
    "# Многочлен Лагранжа на сетке Шишкина\n",
    "\n",
    "res_table = np.zeros((len(eps), len(N)))\n",
    "\n",
    "for i in range(len(eps)):\n",
    "    for j in range(len(N)):\n",
    "        grid = shishkin_grid(0, 1, N[j], eps[i])\n",
    "        x = subgrid(grid)\n",
    "        u = lambda x: np.cos(np.pi * x / 2) + np.exp(-x/eps[i])\n",
    "        u_h = get_u(x, u)\n",
    "        u_lagr = get_lagr(x, grid, u)\n",
    "        error = error_norm(u_h, u_lagr)\n",
    "        res_table[i,j] = error\n",
    "        print(\"{:.2e}\".format(error), end=' ')\n",
    "    print()\n",
    "    \n",
    "orders = np.zeros((len(eps), len(N)-1))\n",
    "for j in range(len(N)-1):\n",
    "    orders[:,j] = np.log2(res_table[:,j] / res_table[:,j+1] )\n",
    "\n",
    "print(\"ORDERS:\")\n",
    "for i in range(len(eps)):\n",
    "    for j in range(len(N)-1):\n",
    "        print(\"{:.2e}\".format(orders[i,j]),end=' ')\n",
    "    print()"
   ]
  },
  {
   "cell_type": "code",
   "execution_count": 8,
   "metadata": {},
   "outputs": [
    {
     "name": "stdout",
     "output_type": "stream",
     "text": [
      "2.88e-02 5.30e-03 8.11e-04 1.12e-04 1.48e-05 1.90e-06 2.41e-07 3.03e-08 \n",
      "1.15e-01 2.89e-02 5.30e-03 8.11e-04 1.12e-04 1.48e-05 1.90e-06 2.41e-07 \n",
      "2.90e-01 1.15e-01 2.89e-02 5.30e-03 8.11e-04 1.12e-04 1.48e-05 1.90e-06 \n",
      "5.20e-02 6.93e-03 9.09e-04 1.16e-04 1.47e-05 1.85e-06 2.32e-07 3.37e-08 \n",
      "6.18e-02 7.09e-03 9.31e-04 1.19e-04 1.51e-05 1.90e-06 2.38e-07 2.98e-08 \n",
      "7.44e-02 7.17e-03 9.42e-04 1.21e-04 1.53e-05 1.92e-06 2.41e-07 3.01e-08 \n",
      "8.77e-02 7.21e-03 9.47e-04 1.21e-04 1.53e-05 1.93e-06 2.42e-07 3.03e-08 \n",
      "1.01e-01 7.23e-03 9.50e-04 1.22e-04 1.54e-05 1.94e-06 2.43e-07 3.04e-08 \n",
      "ORDERS:\n",
      "2.44e+00 2.71e+00 2.85e+00 2.92e+00 2.96e+00 2.98e+00 2.99e+00 \n",
      "1.99e+00 2.45e+00 2.71e+00 2.85e+00 2.92e+00 2.96e+00 2.98e+00 \n",
      "1.33e+00 1.99e+00 2.45e+00 2.71e+00 2.85e+00 2.92e+00 2.96e+00 \n",
      "2.91e+00 2.93e+00 2.97e+00 2.98e+00 2.99e+00 3.00e+00 2.79e+00 \n",
      "3.12e+00 2.93e+00 2.96e+00 2.98e+00 2.99e+00 3.00e+00 3.00e+00 \n",
      "3.38e+00 2.93e+00 2.96e+00 2.98e+00 2.99e+00 3.00e+00 3.00e+00 \n",
      "3.60e+00 2.93e+00 2.96e+00 2.98e+00 2.99e+00 3.00e+00 3.00e+00 \n",
      "3.81e+00 2.93e+00 2.96e+00 2.98e+00 2.99e+00 3.00e+00 3.00e+00 \n"
     ]
    }
   ],
   "source": [
    "# Многочлен Лагранжа на сетке Бахвалова\n",
    "\n",
    "res_table = np.zeros((len(eps), len(N)))\n",
    "\n",
    "for i in range(len(eps)):\n",
    "    for j in range(len(N)):\n",
    "        grid = bahvalov_grid(N[j], eps[i], k = 4)\n",
    "        x = subgrid(grid)\n",
    "        u = lambda x: np.cos(np.pi * x / 2) + np.exp(-x/eps[i])\n",
    "        u_h = get_u(x, u)\n",
    "        u_lagr = get_lagr(x, grid, u)\n",
    "        error = error_norm(u_h, u_lagr)\n",
    "        res_table[i,j] = error\n",
    "        print(\"{:.2e}\".format(error), end=' ')\n",
    "    print()\n",
    "    \n",
    "orders = np.zeros((len(eps), len(N)-1))\n",
    "for j in range(len(N)-1):\n",
    "    orders[:,j] = np.log2(res_table[:,j] / res_table[:,j+1] )\n",
    "\n",
    "print(\"ORDERS:\")\n",
    "for i in range(len(eps)):\n",
    "    for j in range(len(N)-1):\n",
    "        print(\"{:.2e}\".format(orders[i,j]),end=' ')\n",
    "    print()"
   ]
  },
  {
   "cell_type": "code",
   "execution_count": null,
   "metadata": {},
   "outputs": [],
   "source": []
  },
  {
   "cell_type": "code",
   "execution_count": null,
   "metadata": {},
   "outputs": [],
   "source": []
  },
  {
   "cell_type": "code",
   "execution_count": null,
   "metadata": {},
   "outputs": [],
   "source": []
  },
  {
   "cell_type": "code",
   "execution_count": null,
   "metadata": {},
   "outputs": [],
   "source": []
  }
 ],
 "metadata": {
  "kernelspec": {
   "display_name": "Python 3",
   "language": "python",
   "name": "python3"
  },
  "language_info": {
   "codemirror_mode": {
    "name": "ipython",
    "version": 3
   },
   "file_extension": ".py",
   "mimetype": "text/x-python",
   "name": "python",
   "nbconvert_exporter": "python",
   "pygments_lexer": "ipython3",
   "version": "3.8.5"
  }
 },
 "nbformat": 4,
 "nbformat_minor": 4
}
